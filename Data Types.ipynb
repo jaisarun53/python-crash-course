{
 "cells": [
  {
   "cell_type": "code",
   "execution_count": 1,
   "id": "102b5971",
   "metadata": {},
   "outputs": [
    {
     "name": "stdout",
     "output_type": "stream",
     "text": [
      "lets learn python\n"
     ]
    }
   ],
   "source": [
    "# lets learn about the print statement\n",
    "print(\"lets learn python\")"
   ]
  },
  {
   "cell_type": "code",
   "execution_count": null,
   "id": "5c62de64",
   "metadata": {},
   "outputs": [],
   "source": []
  },
  {
   "cell_type": "code",
   "execution_count": null,
   "id": "36b711b2",
   "metadata": {},
   "outputs": [],
   "source": []
  },
  {
   "cell_type": "markdown",
   "id": "2f55e63a",
   "metadata": {},
   "source": []
  },
  {
   "cell_type": "code",
   "execution_count": 8,
   "id": "11bcbd29",
   "metadata": {},
   "outputs": [
    {
     "name": "stdout",
     "output_type": "stream",
     "text": [
      "22\n",
      "payal\n"
     ]
    }
   ],
   "source": [
    "# lets create the two variables\n",
    "x=22\n",
    "y=\"payal\"\n",
    "print(x)\n",
    "print(y)"
   ]
  },
  {
   "cell_type": "code",
   "execution_count": 15,
   "id": "be3c8e0a",
   "metadata": {},
   "outputs": [
    {
     "name": "stdout",
     "output_type": "stream",
     "text": [
      "payal is 22 years old.\n"
     ]
    }
   ],
   "source": [
    "# lets print the statement with string formating\n",
    "print(f\"{y} is {x} years old.\")"
   ]
  },
  {
   "cell_type": "code",
   "execution_count": 9,
   "id": "bd4b6cdf",
   "metadata": {},
   "outputs": [
    {
     "name": "stdout",
     "output_type": "stream",
     "text": [
      "payal is 22 years old.\n"
     ]
    }
   ],
   "source": [
    "# using format method\n",
    "print(\"{} is {} years old.\".format(y,x))"
   ]
  },
  {
   "cell_type": "code",
   "execution_count": 13,
   "id": "a38e5141",
   "metadata": {},
   "outputs": [
    {
     "name": "stdout",
     "output_type": "stream",
     "text": [
      "payal is 22 years old.\n"
     ]
    }
   ],
   "source": [
    "#using concateination method\n",
    "print(y+ \" is \" +  str(x) +  \" years old.\")"
   ]
  },
  {
   "cell_type": "code",
   "execution_count": 14,
   "id": "740f40a1",
   "metadata": {},
   "outputs": [
    {
     "name": "stdout",
     "output_type": "stream",
     "text": [
      "payal is 22 years old.\n"
     ]
    }
   ],
   "source": [
    "# using older % string formating method\n",
    "print(\"%s is %d years old.\" %(y,x))"
   ]
  },
  {
   "cell_type": "markdown",
   "id": "dd0e17c9",
   "metadata": {},
   "source": [
    "2. Data Types\n",
    "\n",
    "\n"
   ]
  },
  {
   "cell_type": "code",
   "execution_count": 23,
   "id": "cfde1fd1",
   "metadata": {},
   "outputs": [
    {
     "name": "stdout",
     "output_type": "stream",
     "text": [
      "the addition is 100 \n",
      "the subtraction is 0\n",
      " the mustiple is 2500\n",
      "the dividion is 1.0\n",
      "the reminder is 0\n"
     ]
    }
   ],
   "source": [
    "#numbers\n",
    "x=50\n",
    "y=50\n",
    "print(f\"the addition is {x+y} \")\n",
    "print(f\"the subtraction is {x-y}\")\n",
    "print(f\" the mustiple is {x*y}\")\n",
    "print(f\"the dividion is {x/y}\")\n",
    "print(f\"the reminder is {x%y}\")"
   ]
  },
  {
   "cell_type": "markdown",
   "id": "2b59ecc1",
   "metadata": {},
   "source": [
    ".String\n"
   ]
  },
  {
   "cell_type": "code",
   "execution_count": 30,
   "id": "47193bd9",
   "metadata": {},
   "outputs": [
    {
     "name": "stdout",
     "output_type": "stream",
     "text": [
      "single_quoted _string = I am learning python \n",
      "double_quoted _string = I am learning python \n"
     ]
    }
   ],
   "source": [
    "#single coated string\n",
    "single_quoted_string=\"I am learning python \"\n",
    "print(\"single_quoted _string =\",single_quoted_string)\n",
    "# double coated string\n",
    "double_quoted_string='Python is awesome '\n",
    "print(\"double_quoted _string =\",single_quoted_string)"
   ]
  },
  {
   "cell_type": "code",
   "execution_count": 2,
   "id": "b138be54",
   "metadata": {},
   "outputs": [
    {
     "ename": "NameError",
     "evalue": "name 'single_quoted_string' is not defined",
     "output_type": "error",
     "traceback": [
      "\u001b[1;31m---------------------------------------------------------------------------\u001b[0m",
      "\u001b[1;31mNameError\u001b[0m                                 Traceback (most recent call last)",
      "Cell \u001b[1;32mIn[2], line 2\u001b[0m\n\u001b[0;32m      1\u001b[0m \u001b[38;5;66;03m#string concatenation \u001b[39;00m\n\u001b[1;32m----> 2\u001b[0m concatenated_string \u001b[38;5;241m=\u001b[39m single_quoted_string \u001b[38;5;241m+\u001b[39m \u001b[38;5;124m'\u001b[39m\u001b[38;5;124m.\u001b[39m\u001b[38;5;124m'\u001b[39m \u001b[38;5;241m+\u001b[39m double_quoted_string\n\u001b[0;32m      3\u001b[0m \u001b[38;5;28mprint\u001b[39m(\u001b[38;5;124m\"\u001b[39m\u001b[38;5;124mconcatenated_string =\u001b[39m\u001b[38;5;124m\"\u001b[39m, concatenated_string)\n",
      "\u001b[1;31mNameError\u001b[0m: name 'single_quoted_string' is not defined"
     ]
    }
   ],
   "source": [
    "#string concatenation \n",
    "concatenated_string = single_quoted_string + '.' + double_quoted_string\n",
    "print(\"concatenated_string =\", concatenated_string)"
   ]
  },
  {
   "cell_type": "code",
   "execution_count": 1,
   "id": "7b4598d8",
   "metadata": {},
   "outputs": [
    {
     "ename": "NameError",
     "evalue": "name 'concatenated_string' is not defined",
     "output_type": "error",
     "traceback": [
      "\u001b[1;31m---------------------------------------------------------------------------\u001b[0m",
      "\u001b[1;31mNameError\u001b[0m                                 Traceback (most recent call last)",
      "Cell \u001b[1;32mIn[1], line 2\u001b[0m\n\u001b[0;32m      1\u001b[0m \u001b[38;5;66;03m#uppercase string\u001b[39;00m\n\u001b[1;32m----> 2\u001b[0m uppercase_string\u001b[38;5;241m=\u001b[39m concatenated_string\u001b[38;5;241m.\u001b[39mupper()\n\u001b[0;32m      3\u001b[0m lowercase_string\u001b[38;5;241m=\u001b[39m concatenated_string\u001b[38;5;241m.\u001b[39mlower()\n\u001b[0;32m      4\u001b[0m \u001b[38;5;28mprint\u001b[39m(uppercase_string)\n",
      "\u001b[1;31mNameError\u001b[0m: name 'concatenated_string' is not defined"
     ]
    }
   ],
   "source": [
    "#uppercase string\n",
    "uppercase_string= concatenated_string.upper()\n",
    "lowercase_string= concatenated_string.lower()\n",
    "print(uppercase_string)\n",
    "print(lowercase_string)"
   ]
  },
  {
   "cell_type": "code",
   "execution_count": 3,
   "id": "1b6575cc",
   "metadata": {},
   "outputs": [
    {
     "name": "stdout",
     "output_type": "stream",
     "text": [
      "slice word is n ja\n"
     ]
    }
   ],
   "source": [
    "#string sliching example\n",
    "word=\"arun jaiswal\"\n",
    "slice_word = word[3:7]\n",
    "print(\"slice word is\",slice_word)"
   ]
  },
  {
   "cell_type": "code",
   "execution_count": 5,
   "id": "3fb9db19",
   "metadata": {},
   "outputs": [
    {
     "name": "stdout",
     "output_type": "stream",
     "text": [
      "   pokhara university     \n",
      "pokhara university\n"
     ]
    }
   ],
   "source": [
    "word_space= \"   pokhara university     \"\n",
    "remove_space=word_space.strip()\n",
    "print(word_space)\n",
    "print(remove_space)"
   ]
  },
  {
   "cell_type": "code",
   "execution_count": 7,
   "id": "0ec7c759",
   "metadata": {},
   "outputs": [
    {
     "name": "stdout",
     "output_type": "stream",
     "text": [
      "['kali', 'Linux', 'used', 'is', 'for', 'hacking ']\n",
      "kali Linux used is for hacking \n"
     ]
    }
   ],
   "source": [
    "word_list=[\"kali\",\"Linux\",\"used\",\"is\",\"for\",\"hacking \"]\n",
    "print(word_list)\n",
    "sentence=\" \".join(word_list)\n",
    "print(sentence)\n"
   ]
  },
  {
   "cell_type": "code",
   "execution_count": 14,
   "id": "eb150659",
   "metadata": {},
   "outputs": [
    {
     "name": "stdout",
     "output_type": "stream",
     "text": [
      "Cybersecurity world\n"
     ]
    }
   ],
   "source": [
    "word_lists=\"hello world\"\n",
    "replaced_string=word_lists.replace(\"hello\",\"Cybersecurity\")\n",
    "print(replaced_string)"
   ]
  },
  {
   "cell_type": "code",
   "execution_count": 19,
   "id": "4c5e90c7",
   "metadata": {},
   "outputs": [
    {
     "name": "stdout",
     "output_type": "stream",
     "text": [
      "index of is learning 25\n"
     ]
    }
   ],
   "source": [
    "#find a word in a sentence\n",
    "word=\"python is awsesom . i am learning cresh coures.\"\n",
    "index=word.find(\"learning\")\n",
    "print(\"index of is learning\",index)"
   ]
  },
  {
   "cell_type": "markdown",
   "id": "c31628c1",
   "metadata": {},
   "source": [
    "list\n"
   ]
  },
  {
   "cell_type": "code",
   "execution_count": 20,
   "id": "1f79d7dd",
   "metadata": {},
   "outputs": [
    {
     "name": "stdout",
     "output_type": "stream",
     "text": [
      "['hami 3 bhai', 'papi manxe', 'aadi purush', 'hera pheri']\n"
     ]
    }
   ],
   "source": [
    "#creating a list\n",
    "fav_movie=[\"hami 3 bhai\",\"papi manxe\",\"aadi purush\",\"hera pheri\"]\n",
    "print(fav_movie)"
   ]
  },
  {
   "cell_type": "code",
   "execution_count": 32,
   "id": "f536c533",
   "metadata": {},
   "outputs": [
    {
     "name": "stdout",
     "output_type": "stream",
     "text": [
      "arun fav movie is papi manxe\n",
      "payal fav movie is hera pheri\n"
     ]
    }
   ],
   "source": [
    "#accessing the element of list\n",
    "print(\"arun fav movie is\",fav_movie[1])\n",
    "print(\"payal fav movie is\",fav_movie[-1])"
   ]
  },
  {
   "cell_type": "code",
   "execution_count": 33,
   "id": "753c1d96",
   "metadata": {},
   "outputs": [
    {
     "name": "stdout",
     "output_type": "stream",
     "text": [
      "the length id the list is : 4\n"
     ]
    }
   ],
   "source": [
    "#find the length os list\n",
    "print(\"the length id the list is :\",len(fav_movie))"
   ]
  },
  {
   "cell_type": "code",
   "execution_count": 35,
   "id": "a89b7b3d",
   "metadata": {},
   "outputs": [
    {
     "name": "stdout",
     "output_type": "stream",
     "text": [
      "['apple', 'banana', 'cherry']\n",
      "[2, 5, 7, 9]\n",
      "[True, False, True, False]\n",
      "['apple', 5, True]\n"
     ]
    }
   ],
   "source": [
    "#list can contain heterogeneous data types\n",
    "list1=[\"apple\",\"banana\",\"cherry\"]\n",
    "list2=[2,5,7,9]\n",
    "list3=[True,False,True,False]\n",
    "list4=[\"apple\",5,True]\n",
    "print(list1)\n",
    "print(list2)\n",
    "print(list3)\n",
    "print(list4)"
   ]
  },
  {
   "cell_type": "code",
   "execution_count": 38,
   "id": "0e496dad",
   "metadata": {},
   "outputs": [
    {
     "name": "stdout",
     "output_type": "stream",
     "text": [
      "<class 'list'>\n"
     ]
    }
   ],
   "source": [
    "#lets find the type od data types\n",
    "print(type(list2))"
   ]
  },
  {
   "cell_type": "code",
   "execution_count": 42,
   "id": "afdc21cf",
   "metadata": {},
   "outputs": [
    {
     "name": "stdout",
     "output_type": "stream",
     "text": [
      "['one piece', 'load of the rings', [9, 10]]\n",
      "IMDB Rating: 10\n"
     ]
    }
   ],
   "source": [
    "#nested list\n",
    "nested_list=[\"one piece\",\"load of the rings\",[9,10]]\n",
    "print(nested_list)\n",
    "print(\"IMDB Rating:\",nested_list[2][1])"
   ]
  },
  {
   "cell_type": "markdown",
   "id": "cc6ca66e",
   "metadata": {},
   "source": [
    "Distionary"
   ]
  },
  {
   "cell_type": "code",
   "execution_count": 50,
   "id": "956cc240",
   "metadata": {},
   "outputs": [
    {
     "name": "stdout",
     "output_type": "stream",
     "text": [
      "{'name': 'Arun', 'major': 'computing ', 'CGPA': '3.59'}\n",
      "student name is: Arun\n",
      "{'name': 'Arun', 'major': 'computing ', 'CGPA': '3.59', 'year': 2025}\n",
      "{'name': 'Arun', 'major': 'computing ', 'CGPA': 3.8, 'year': 2025}\n",
      "{'name': 'Arun', 'major': 'computing ', 'CGPA': 3.8}\n"
     ]
    }
   ],
   "source": [
    "# creating a distionary\n",
    "student={\n",
    "    \"name\":\"Arun\",\n",
    "    \"major\":\"computing \",\n",
    "    \"CGPA\":\"3.59\",\n",
    "}\n",
    "print(student)\n",
    "# accessing the distionery item\n",
    "print(\"student name is:\",student[\"name\"])\n",
    "\n",
    "#adding a new element\n",
    "student[\"year\"]=2025\n",
    "#print the distionery as a string\n",
    "print(repr(student))\n",
    "\n",
    "\n",
    "#modify an existing item\n",
    "student[\"CGPA\"]=3.8\n",
    "print(repr(student))\n",
    "\n",
    "#delete an item if it exist\n",
    "if \"year\" in student :del student[\"year\"]\n",
    "print(repr(student))"
   ]
  },
  {
   "cell_type": "code",
   "execution_count": 51,
   "id": "4099dbf8",
   "metadata": {},
   "outputs": [
    {
     "name": "stdout",
     "output_type": "stream",
     "text": [
      "{'name': 'tesla', 'company': 'tesla', 'price': 10}\n"
     ]
    }
   ],
   "source": [
    "car_dict=dict(name=\"tesla\",company=\"tesla\",price=10)\n",
    "print(repr(car_dict))"
   ]
  },
  {
   "cell_type": "markdown",
   "id": "9bd4013b",
   "metadata": {},
   "source": [
    "practice\n",
    "\n"
   ]
  },
  {
   "cell_type": "code",
   "execution_count": null,
   "id": "9385acaa",
   "metadata": {},
   "outputs": [],
   "source": [
    "print(\"Your Name\")\n"
   ]
  },
  {
   "cell_type": "code",
   "execution_count": null,
   "id": "548e1302",
   "metadata": {},
   "outputs": [],
   "source": [
    "num1 = float(input(\"Enter first number: \"))\n",
    "num2 = float(input(\"Enter second number: \"))\n",
    "print(\"Sum:\", num1 + num2)\n"
   ]
  },
  {
   "cell_type": "code",
   "execution_count": 2,
   "id": "ba00690e",
   "metadata": {},
   "outputs": [
    {
     "name": "stdout",
     "output_type": "stream",
     "text": [
      "Enter first number: 2\n",
      "Enter second number: 2\n",
      "Sum: 4.00\n"
     ]
    }
   ],
   "source": [
    "num1 = float(input(\"Enter first number: \"))\n",
    "num2 = float(input(\"Enter second number: \"))\n",
    "result = num1 + num2\n",
    "print(\"Sum: {:.2f}\".format(result))\n"
   ]
  },
  {
   "cell_type": "code",
   "execution_count": null,
   "id": "13177ba4",
   "metadata": {},
   "outputs": [],
   "source": [
    "a, b = 0, 1\n",
    "for _ in range(10):\n",
    "    print(a, end=\" \")\n",
    "    a, b = b, a + b\n"
   ]
  },
  {
   "cell_type": "code",
   "execution_count": null,
   "id": "4cd7c723",
   "metadata": {},
   "outputs": [],
   "source": [
    "num = int(input(\"Enter a number: \"))\n",
    "for i in range(1, 11):\n",
    "    print(num, \"x\", i, \"=\", num * i)\n"
   ]
  },
  {
   "cell_type": "code",
   "execution_count": null,
   "id": "80e8a9ed",
   "metadata": {},
   "outputs": [],
   "source": [
    "for i in range(10, 0, -1):\n",
    "    print(i)\n"
   ]
  },
  {
   "cell_type": "markdown",
   "id": "d2123c19",
   "metadata": {},
   "source": []
  },
  {
   "cell_type": "markdown",
   "id": "e51db55c",
   "metadata": {},
   "source": []
  },
  {
   "cell_type": "code",
   "execution_count": 8,
   "id": "246b4451",
   "metadata": {},
   "outputs": [
    {
     "name": "stdout",
     "output_type": "stream",
     "text": [
      "*\n",
      "**\n",
      "***\n",
      "****\n",
      "*****\n"
     ]
    }
   ],
   "source": [
    "rows = 5\n",
    "for i in range(1, rows + 1):\n",
    "    print(\"*\" * i)\n"
   ]
  },
  {
   "cell_type": "code",
   "execution_count": 7,
   "id": "fc5a4bae",
   "metadata": {},
   "outputs": [
    {
     "name": "stdout",
     "output_type": "stream",
     "text": [
      "Current date and time: 2024-05-12 16:57:36.734849\n"
     ]
    }
   ],
   "source": [
    "import datetime\n",
    "print(\"Current date and time:\", datetime.datetime.now())\n"
   ]
  },
  {
   "cell_type": "code",
   "execution_count": 1,
   "id": "532cf666",
   "metadata": {},
   "outputs": [
    {
     "name": "stdout",
     "output_type": "stream",
     "text": [
      "Your Name\n"
     ]
    }
   ],
   "source": [
    "print(\"Your Name\")\n"
   ]
  },
  {
   "cell_type": "code",
   "execution_count": 3,
   "id": "0c9da802",
   "metadata": {},
   "outputs": [
    {
     "name": "stdout",
     "output_type": "stream",
     "text": [
      "Enter first number: 1\n",
      "Enter second number: 3\n",
      "Sum: 4.0\n"
     ]
    }
   ],
   "source": [
    "num1 = float(input(\"Enter first number: \"))\n",
    "num2 = float(input(\"Enter second number: \"))\n",
    "print(\"Sum:\", num1 + num2)\n"
   ]
  },
  {
   "cell_type": "code",
   "execution_count": 4,
   "id": "56e921e3",
   "metadata": {},
   "outputs": [
    {
     "name": "stdout",
     "output_type": "stream",
     "text": [
      "Enter first number: 2\n",
      "Enter second number: 3\n",
      "Sum with two decimal places: 5.00\n"
     ]
    }
   ],
   "source": [
    "num1 = float(input(\"Enter first number: \"))\n",
    "num2 = float(input(\"Enter second number: \"))\n",
    "result = num1 + num2\n",
    "print(\"Sum with two decimal places: {:.2f}\".format(result))\n"
   ]
  },
  {
   "cell_type": "code",
   "execution_count": 5,
   "id": "9f1ea597",
   "metadata": {},
   "outputs": [
    {
     "name": "stdout",
     "output_type": "stream",
     "text": [
      "0 1 1 2 3 5 8 13 21 34 "
     ]
    }
   ],
   "source": [
    "a, b = 0, 1\n",
    "for _ in range(10):\n",
    "    print(a, end=\" \")\n",
    "    a, b = b, a + b\n"
   ]
  },
  {
   "cell_type": "code",
   "execution_count": 6,
   "id": "da980446",
   "metadata": {},
   "outputs": [
    {
     "name": "stdout",
     "output_type": "stream",
     "text": [
      "Enter a number: 2\n",
      "2 x 1 = 2\n",
      "2 x 2 = 4\n",
      "2 x 3 = 6\n",
      "2 x 4 = 8\n",
      "2 x 5 = 10\n",
      "2 x 6 = 12\n",
      "2 x 7 = 14\n",
      "2 x 8 = 16\n",
      "2 x 9 = 18\n",
      "2 x 10 = 20\n"
     ]
    }
   ],
   "source": [
    "num = int(input(\"Enter a number: \"))\n",
    "for i in range(1, 11):\n",
    "    print(f\"{num} x {i} = {num*i}\")\n"
   ]
  },
  {
   "cell_type": "code",
   "execution_count": 7,
   "id": "c16897db",
   "metadata": {},
   "outputs": [
    {
     "name": "stdout",
     "output_type": "stream",
     "text": [
      "10, 9, 8, 7, 6, 5, 4, 3, 2, 1\n"
     ]
    }
   ],
   "source": [
    "print(\", \".join(map(str, range(10, 0, -1))))\n"
   ]
  },
  {
   "cell_type": "code",
   "execution_count": null,
   "id": "b0f06f72",
   "metadata": {},
   "outputs": [],
   "source": [
    "print(\", \".join(map(str, range(10, 0, -1))))\n"
   ]
  },
  {
   "cell_type": "code",
   "execution_count": null,
   "id": "4c5bb0af",
   "metadata": {},
   "outputs": [],
   "source": [
    "rows = 5\n",
    "for i in range(1, rows + 1):\n",
    "    print(\"* \" * i)\n"
   ]
  },
  {
   "cell_type": "code",
   "execution_count": null,
   "id": "f5d7b26c",
   "metadata": {},
   "outputs": [],
   "source": [
    "import datetime\n",
    "print(\"Current date and time:\", datetime.datetime.now())\n"
   ]
  },
  {
   "cell_type": "code",
   "execution_count": null,
   "id": "cca4d3a2",
   "metadata": {},
   "outputs": [],
   "source": [
    "import math\n",
    "radius = float(input(\"Enter the radius of the circle: \"))\n",
    "area = math.pi * radius ** 2\n",
    "print(\"Area of the circle:\", area)\n"
   ]
  },
  {
   "cell_type": "code",
   "execution_count": null,
   "id": "a5505694",
   "metadata": {},
   "outputs": [],
   "source": [
    "num1 = float(input(\"Enter first number: \"))\n",
    "num2 = float(input(\"Enter second number: \"))\n",
    "if num2 != 0:\n",
    "    print(\"Division result:\", num1 / num2)\n",
    "else:\n",
    "    print(\"Cannot divide by zero!\")\n"
   ]
  },
  {
   "cell_type": "code",
   "execution_count": null,
   "id": "eebe2ef0",
   "metadata": {},
   "outputs": [],
   "source": [
    "num = int(input(\"Enter a number: \"))\n",
    "factorial = 1\n",
    "for i in range(1, num + 1):\n",
    "    factorial *= i\n",
    "print(\"Factorial of\", num, \"is\", factorial)\n"
   ]
  },
  {
   "cell_type": "code",
   "execution_count": null,
   "id": "92934f75",
   "metadata": {},
   "outputs": [],
   "source": [
    "import random\n",
    "random_number = random.randint(1, 100)\n",
    "print(\"Random number:\", random_number)\n"
   ]
  },
  {
   "cell_type": "code",
   "execution_count": null,
   "id": "6ba01222",
   "metadata": {},
   "outputs": [],
   "source": [
    "string = input(\"Enter a string: \")\n",
    "print(\"Reversed string:\", string[::-1])\n"
   ]
  },
  {
   "cell_type": "code",
   "execution_count": null,
   "id": "0ae23ea7",
   "metadata": {},
   "outputs": [],
   "source": [
    "string = input(\"Enter a string: \")\n",
    "if string == string[::-1]:\n",
    "    print(\"Palindrome\")\n",
    "else:\n",
    "    print(\"Not a palindrome\")\n"
   ]
  },
  {
   "cell_type": "code",
   "execution_count": null,
   "id": "3dfb9017",
   "metadata": {},
   "outputs": [],
   "source": [
    "string = input(\"Enter a string: \")\n",
    "words = string.split()\n",
    "print(\"Number of words:\", len(words))\n"
   ]
  },
  {
   "cell_type": "code",
   "execution_count": null,
   "id": "80dda025",
   "metadata": {},
   "outputs": [],
   "source": [
    "sentence = input(\"Enter a sentence: \")\n",
    "words = sentence.split()\n",
    "print(\"Reversed sentence:\", \" \".join(words[::-1]))\n"
   ]
  },
  {
   "cell_type": "code",
   "execution_count": null,
   "id": "531f8021",
   "metadata": {},
   "outputs": [],
   "source": [
    "string = input(\"Enter a string: \")\n",
    "print(\"Lowercase:\", string.lower())\n"
   ]
  },
  {
   "cell_type": "code",
   "execution_count": null,
   "id": "279a41e5",
   "metadata": {},
   "outputs": [],
   "source": [
    "list1 = [1, 2, 3, 4, 5]\n",
    "list2 = [6, 7, 8, 9, 10]\n",
    "print(\"Common elements present:\", any(item in list1 for item in list2))\n"
   ]
  },
  {
   "cell_type": "code",
   "execution_count": null,
   "id": "05bcbfc6",
   "metadata": {},
   "outputs": [],
   "source": [
    "my_dict = {'a': 1, 'b': 2, 'c': 3}\n",
    "print(\"Keys:\", list(my_dict.keys()))\n"
   ]
  },
  {
   "cell_type": "code",
   "execution_count": null,
   "id": "d5c8e50c",
   "metadata": {},
   "outputs": [],
   "source": [
    "my_dict = {'a': 1, 'b': 2, 'c': 3}\n",
    "print(\"Keys:\", list(my_dict.keys()))\n"
   ]
  },
  {
   "cell_type": "code",
   "execution_count": null,
   "id": "105f2536",
   "metadata": {},
   "outputs": [],
   "source": [
    "my_dict = {'a': 1, 'b': 2, 'c': 3}\n",
    "print(\"Sum of values:\", sum(my_dict.values()))\n"
   ]
  },
  {
   "cell_type": "markdown",
   "id": "fde74cec",
   "metadata": {},
   "source": [
    "Dictionaries "
   ]
  },
  {
   "cell_type": "code",
   "execution_count": 10,
   "id": "e65da8bd",
   "metadata": {},
   "outputs": [
    {
     "name": "stdout",
     "output_type": "stream",
     "text": [
      "\n",
      "Example 1: cOMPARING VALUES:\n",
      "IS 100 is smaller than 200? True\n",
      "Is 50 is equal to 100? False\n"
     ]
    }
   ],
   "source": [
    "#boolean : lets learn boolean \n",
    "print(\"\\nExample 1: cOMPARING VALUES:\")\n",
    "print(\"IS 100 is smaller than 200?\",200>100)\n",
    "print(\"Is 50 is equal to 100?\",50==100)\n"
   ]
  },
  {
   "cell_type": "code",
   "execution_count": 12,
   "id": "3addd1b5",
   "metadata": {},
   "outputs": [
    {
     "name": "stdout",
     "output_type": "stream",
     "text": [
      "200 is greater than 50\n"
     ]
    }
   ],
   "source": [
    "#example 2 find the greated=st number among \n",
    "x=50 \n",
    "y=200\n",
    "if x>y:\n",
    "    print(f\"{x} is greater than {y}.\")\n",
    "else:\n",
    "    print(f\"{y} is greater than {x}.\") "
   ]
  },
  {
   "cell_type": "code",
   "execution_count": 15,
   "id": "cd2d1a43",
   "metadata": {},
   "outputs": [
    {
     "name": "stdout",
     "output_type": "stream",
     "text": [
      "Is 'Hello' True? True\n",
      "Is x True True\n",
      "Is y True True\n"
     ]
    }
   ],
   "source": [
    "# evaluating values and variables\n",
    "print(\"Is 'Hello' True?\",bool(\"Hello\"))\n",
    "x=\"Hi\"\n",
    "y=25\n",
    "print(\"Is x True\",bool(x))\n",
    "print(\"Is y True\",bool(y))"
   ]
  },
  {
   "cell_type": "code",
   "execution_count": 18,
   "id": "d9c8b327",
   "metadata": {},
   "outputs": [
    {
     "name": "stdout",
     "output_type": "stream",
     "text": [
      "Is 20 is even? True\n",
      "Is 15 is even? False\n"
     ]
    }
   ],
   "source": [
    "# lets practice function returns boolean\n",
    "def is_Even(num):\n",
    "    return num % 2 == 0\n",
    "print(\"Is 20 is even?\",is_Even(20))\n",
    "print(\"Is 15 is even?\",is_Even(15))"
   ]
  },
  {
   "cell_type": "code",
   "execution_count": 19,
   "id": "e713c1a3",
   "metadata": {},
   "outputs": [
    {
     "name": "stdout",
     "output_type": "stream",
     "text": [
      "('Animal', 'One Piece', 'tiger 3')\n"
     ]
    }
   ],
   "source": [
    "#tuples : lets learn about tuples\n",
    "fav_movies=(\"Animal\",\"One Piece\",\"tiger 3\")\n",
    "print(fav_movies)\n"
   ]
  },
  {
   "cell_type": "code",
   "execution_count": 21,
   "id": "dff677c6",
   "metadata": {},
   "outputs": [
    {
     "name": "stdout",
     "output_type": "stream",
     "text": [
      "Arun fav movies is : Animal\n",
      "payal fav movies is : tiger 3\n"
     ]
    }
   ],
   "source": [
    "# Accesssing the fav movies\n",
    "print(\"Arun fav movies is :\",fav_movies[0])\n",
    "print(\"payal fav movies is :\",fav_movies[2])\n"
   ]
  },
  {
   "cell_type": "code",
   "execution_count": 23,
   "id": "1e838284",
   "metadata": {},
   "outputs": [
    {
     "name": "stdout",
     "output_type": "stream",
     "text": [
      "seperate movies: Animal One Piece tiger 3\n"
     ]
    }
   ],
   "source": [
    "x,y,z=fav_movies\n",
    "print(\"seperate movies:\",x,y,z)"
   ]
  },
  {
   "cell_type": "code",
   "execution_count": 27,
   "id": "6620e93e",
   "metadata": {},
   "outputs": [
    {
     "name": "stdout",
     "output_type": "stream",
     "text": [
      "Animal\n",
      "One Piece\n",
      "tiger 3\n"
     ]
    }
   ],
   "source": [
    "for movies in fav_movies:\n",
    "    print(movies)"
   ]
  },
  {
   "cell_type": "code",
   "execution_count": 29,
   "id": "2868720e",
   "metadata": {},
   "outputs": [
    {
     "name": "stdout",
     "output_type": "stream",
     "text": [
      "('apple', 'banana', 'cherry', 1, 2, 5)\n"
     ]
    }
   ],
   "source": [
    "# joining the two tuples\n",
    "firstTuple=(\"apple\",\"banana\",\"cherry\")\n",
    "secondTuple=(1,2,5)\n",
    "joinTuple=firstTuple+secondTuple\n",
    "print(joinTuple)"
   ]
  },
  {
   "cell_type": "code",
   "execution_count": 44,
   "id": "eeb90967",
   "metadata": {},
   "outputs": [
    {
     "name": "stdout",
     "output_type": "stream",
     "text": [
      "{'cherry', 'abanana', 'orange'}\n"
     ]
    }
   ],
   "source": [
    "#adding a new fruit to our set\n",
    "myFirst_et={\"orange\",\"abanana\",\"cherry\"}\n",
    "print(myFirst_et)"
   ]
  },
  {
   "cell_type": "code",
   "execution_count": 45,
   "id": "ac6157db",
   "metadata": {},
   "outputs": [
    {
     "name": "stdout",
     "output_type": "stream",
     "text": [
      "{'cherry', 'abanana', 'orange', 'apple'}\n"
     ]
    }
   ],
   "source": [
    "#adding a new fruit to our set\n",
    "myFirst_et.add(\"apple\")\n",
    "print(myFirst_et)"
   ]
  },
  {
   "cell_type": "code",
   "execution_count": 46,
   "id": "6d2f7483",
   "metadata": {},
   "outputs": [
    {
     "name": "stdout",
     "output_type": "stream",
     "text": [
      "{'n', 'o', 'r', 'e', 's', 'a', 'm', 'cherry', 'g', 'abanana', 'orange', 'p', 'apple'}\n"
     ]
    }
   ],
   "source": [
    "#adding a new fruit to our set\n",
    "myFirst_et.update(\"mango\",\"grapes\")\n",
    "print(myFirst_et)"
   ]
  },
  {
   "cell_type": "code",
   "execution_count": 47,
   "id": "940f8701",
   "metadata": {},
   "outputs": [
    {
     "name": "stdout",
     "output_type": "stream",
     "text": [
      "{'n', 'o', 'r', 'e', 's', 'a', 'm', 'cherry', 'g', 'abanana', 'orange', 'p'}\n"
     ]
    }
   ],
   "source": [
    "#adding a new fruit to our set\n",
    "myFirst_et.remove(\"apple\")\n",
    "print(myFirst_et)"
   ]
  },
  {
   "cell_type": "code",
   "execution_count": 43,
   "id": "af6bd222",
   "metadata": {},
   "outputs": [
    {
     "name": "stdout",
     "output_type": "stream",
     "text": [
      "70 is the  greatest number.\n"
     ]
    }
   ],
   "source": [
    "# comparison operator\n",
    "#find greatedst num\n",
    "\n",
    "a=20\n",
    "b=50\n",
    "c=70\n",
    "if a>=b and a>=c:\n",
    "    print(f\"{a} is the  greatest number.\")\n",
    "elif b>=a and b>=c:\n",
    "    print(f\"{b} is the  greatest number.\")\n",
    "else:\n",
    "     print(f\"{c} is the  greatest number.\")\n",
    "          \n",
    "        "
   ]
  },
  {
   "cell_type": "code",
   "execution_count": 51,
   "id": "15d53e31",
   "metadata": {},
   "outputs": [
    {
     "name": "stdout",
     "output_type": "stream",
     "text": [
      "leap year\n"
     ]
    }
   ],
   "source": [
    "#leap year\n",
    "year=2024\n",
    "if (year%4==0 and year % 100 != 0) or (year% 400 ==0):\n",
    "    print(\"leap year\")\n",
    "else:\n",
    "    print(\"not leap year\")"
   ]
  },
  {
   "cell_type": "code",
   "execution_count": null,
   "id": "5c0ffea0",
   "metadata": {},
   "outputs": [],
   "source": []
  },
  {
   "cell_type": "code",
   "execution_count": 2,
   "id": "7aaa0220",
   "metadata": {},
   "outputs": [
    {
     "name": "stdout",
     "output_type": "stream",
     "text": [
      "\n",
      "Multiple of five:\n",
      "5\n",
      "10\n",
      "15\n",
      "20\n",
      "25\n"
     ]
    }
   ],
   "source": [
    "# loops\n",
    "multple_of_5=[5,10,15,20,25]\n",
    "print(\"\\nMultiple of five:\")\n",
    "for num in multple_of_5:\n",
    "    print(num)"
   ]
  },
  {
   "cell_type": "code",
   "execution_count": 6,
   "id": "00223de2",
   "metadata": {},
   "outputs": [
    {
     "name": "stdout",
     "output_type": "stream",
     "text": [
      "H\n",
      "i\n",
      " \n",
      "i\n",
      " \n",
      "a\n",
      "m\n",
      " \n",
      "l\n",
      "e\n",
      "a\n",
      "r\n",
      "n\n",
      "i\n",
      "n\n",
      "g\n"
     ]
    }
   ],
   "source": [
    "#lets work with string\n",
    "string=\"Hi i am learning\"\n",
    "for char in string:\n",
    "    print(char)"
   ]
  },
  {
   "cell_type": "code",
   "execution_count": 7,
   "id": "c28ad108",
   "metadata": {},
   "outputs": [
    {
     "name": "stdout",
     "output_type": "stream",
     "text": [
      "0\n",
      "1\n",
      "2\n",
      "3\n",
      "4\n",
      "5\n",
      "6\n",
      "7\n",
      "8\n",
      "9\n"
     ]
    }
   ],
   "source": [
    "#range\n",
    "for i in range(10):\n",
    "    print(i)"
   ]
  },
  {
   "cell_type": "code",
   "execution_count": 9,
   "id": "2a358ba0",
   "metadata": {},
   "outputs": [
    {
     "name": "stdout",
     "output_type": "stream",
     "text": [
      "1\n",
      "2\n",
      "3\n",
      "4\n"
     ]
    }
   ],
   "source": [
    "for i in range(1,5):\n",
    "    print(i)"
   ]
  },
  {
   "cell_type": "code",
   "execution_count": 12,
   "id": "847444ba",
   "metadata": {},
   "outputs": [
    {
     "name": "stdout",
     "output_type": "stream",
     "text": [
      "0\n",
      "2\n",
      "4\n",
      "6\n",
      "8\n",
      "10\n"
     ]
    }
   ],
   "source": [
    "# even no. from 1-10\n",
    "for i in range(0,11,2):\n",
    "    print(i)"
   ]
  },
  {
   "cell_type": "code",
   "execution_count": 13,
   "id": "4ac1858c",
   "metadata": {},
   "outputs": [
    {
     "name": "stdout",
     "output_type": "stream",
     "text": [
      "1\n",
      "3\n",
      "5\n",
      "7\n",
      "9\n"
     ]
    }
   ],
   "source": [
    "# odd no. from 1-10\n",
    "for i in range(1,11,2):\n",
    "    print(i)"
   ]
  },
  {
   "cell_type": "code",
   "execution_count": 18,
   "id": "f8e3e9ab",
   "metadata": {},
   "outputs": [
    {
     "name": "stdout",
     "output_type": "stream",
     "text": [
      "19\n",
      "17\n",
      "15\n",
      "13\n",
      "11\n"
     ]
    }
   ],
   "source": [
    "# odd no. from 20-11\n",
    "for i in range(19,10,-2):\n",
    "    print(i)"
   ]
  },
  {
   "cell_type": "code",
   "execution_count": 19,
   "id": "a85afe88",
   "metadata": {},
   "outputs": [
    {
     "name": "stdout",
     "output_type": "stream",
     "text": [
      "Animal : 9\n",
      "Kabir singh : 8\n",
      "bareaking bad : 9\n"
     ]
    }
   ],
   "source": [
    "# lets use dictionary \n",
    "fav_movie={\n",
    "    \"Animal\":9,\n",
    "\"Kabir singh\":8,\n",
    "    \"bareaking bad\":9\n",
    "}\n",
    "for key,value in fav_movie.items():\n",
    "    print(key,\":\",value)"
   ]
  },
  {
   "cell_type": "code",
   "execution_count": 20,
   "id": "8dd7d528",
   "metadata": {},
   "outputs": [
    {
     "name": "stdout",
     "output_type": "stream",
     "text": [
      "\n",
      "Elements of fruits tuple:\n",
      "('Apple', 10)\n",
      "('banana', 12)\n",
      "('cherry', 4)\n"
     ]
    }
   ],
   "source": [
    "#lets learn loop with tuple\n",
    "fruits=[(\"Apple\",10),(\"banana\",12),(\"cherry\",4)]\n",
    "print(\"\\nElements of fruits tuple:\")\n",
    "for item in fruits:\n",
    "    print(item)"
   ]
  },
  {
   "cell_type": "code",
   "execution_count": 21,
   "id": "d15e6a7b",
   "metadata": {},
   "outputs": [
    {
     "name": "stdout",
     "output_type": "stream",
     "text": [
      "character: Apple | quantity 10\n",
      "character: banana | quantity 12\n",
      "character: cherry | quantity 4\n"
     ]
    }
   ],
   "source": [
    "# lets seperste each element from tuple fruits\n",
    "for char, num in fruits:\n",
    "    print(\"character:\",char,\"| quantity\",num)"
   ]
  },
  {
   "cell_type": "code",
   "execution_count": 22,
   "id": "83f9e158",
   "metadata": {},
   "outputs": [
    {
     "name": "stdout",
     "output_type": "stream",
     "text": [
      "1\n",
      "2\n",
      "3\n",
      "4\n",
      "5\n",
      "6\n",
      "7\n",
      "8\n",
      "9\n",
      "10\n"
     ]
    }
   ],
   "source": [
    "#lets learn while loop\n",
    "count=1\n",
    "while count <=10:\n",
    "    print(count)\n",
    "    count=count+1"
   ]
  },
  {
   "cell_type": "code",
   "execution_count": 26,
   "id": "a0ace858",
   "metadata": {},
   "outputs": [
    {
     "name": "stdout",
     "output_type": "stream",
     "text": [
      "\n",
      " THe sum is: 56\n"
     ]
    }
   ],
   "source": [
    "#lets learn while loop\n",
    "count=1\n",
    "sum=0\n",
    "while count <=10:\n",
    "    sum +=count\n",
    "    count +=1\n",
    "print(\"\\n THe sum is:\",sum)\n",
    "   "
   ]
  },
  {
   "cell_type": "code",
   "execution_count": 29,
   "id": "89116db2",
   "metadata": {},
   "outputs": [
    {
     "name": "stdout",
     "output_type": "stream",
     "text": [
      "sum of even: 30\n"
     ]
    }
   ],
   "source": [
    "sum=0\n",
    "num=1\n",
    "while num<= 10:\n",
    "    if num%2==0:\n",
    "        sum += num\n",
    "    num+=1\n",
    "print(\"sum of even:\",sum)"
   ]
  },
  {
   "cell_type": "code",
   "execution_count": 31,
   "id": "8296f4f6",
   "metadata": {},
   "outputs": [
    {
     "name": "stdout",
     "output_type": "stream",
     "text": [
      "2\n",
      "6\n",
      "12\n",
      "20\n",
      "30\n"
     ]
    }
   ],
   "source": [
    "# find the even number from 1 to 10 using while loop\n",
    "sum=0\n",
    "num=1\n",
    "while num<= 10:\n",
    "    if num%2==0:\n",
    "        sum += num\n",
    "        print(sum)\n",
    "    num+=1\n"
   ]
  },
  {
   "cell_type": "code",
   "execution_count": null,
   "id": "ee17fb44",
   "metadata": {},
   "outputs": [],
   "source": [
    "# find the factorial of 5\n",
    "count=5\n",
    "factorial=1\n",
    "while count <=5:\n",
    "    \n",
    "    factorial *= count\n",
    "    count -= 1\n",
    "print(factorial)\n",
    "    "
   ]
  },
  {
   "cell_type": "code",
   "execution_count": null,
   "id": "296cff11",
   "metadata": {},
   "outputs": [],
   "source": [
    "#reversre the string\n"
   ]
  },
  {
   "cell_type": "code",
   "execution_count": null,
   "id": "c92546d5",
   "metadata": {},
   "outputs": [],
   "source": []
  },
  {
   "cell_type": "code",
   "execution_count": null,
   "id": "94dc141e",
   "metadata": {},
   "outputs": [],
   "source": [
    "#function : lets greet first\n",
    "def greet():\n",
    "    print(\"hello world!!!\")\n",
    "greet()"
   ]
  },
  {
   "cell_type": "code",
   "execution_count": 1,
   "id": "d889e8b1",
   "metadata": {},
   "outputs": [
    {
     "name": "stdout",
     "output_type": "stream",
     "text": [
      "hello bata\n",
      "hello payal\n"
     ]
    }
   ],
   "source": [
    "# function with parameter\n",
    "def greet(name):\n",
    "    print(\"hello\",name)\n",
    "greet(\"bata\")\n",
    "greet(\"payal\")"
   ]
  },
  {
   "cell_type": "code",
   "execution_count": 2,
   "id": "b9af2208",
   "metadata": {},
   "outputs": [
    {
     "name": "stdout",
     "output_type": "stream",
     "text": [
      "100\n"
     ]
    }
   ],
   "source": [
    "# functio with writteen value\n",
    "def square(a):\n",
    "    return a**2\n",
    "result=square(10)\n",
    "print(result)"
   ]
  },
  {
   "cell_type": "code",
   "execution_count": 4,
   "id": "586c1fb1",
   "metadata": {},
   "outputs": [
    {
     "name": "stdout",
     "output_type": "stream",
     "text": [
      "hello world\n",
      "hello Python\n"
     ]
    }
   ],
   "source": [
    "#funstion with default parameter value\n",
    "def greet_with_default(name=\"world\"):\n",
    "    print(\"hello\",name)\n",
    "greet_with_default()\n",
    "greet_with_default(name=\"Python\")"
   ]
  },
  {
   "cell_type": "code",
   "execution_count": 5,
   "id": "61d63274",
   "metadata": {},
   "outputs": [
    {
     "name": "stdout",
     "output_type": "stream",
     "text": [
      "min num 1\n",
      "max num 250\n"
     ]
    }
   ],
   "source": [
    "#function with default values :find the min and max number\n",
    "def min_max(num):\n",
    "    return min(num),max(num)\n",
    "num=[1,5,10,100,250]\n",
    "min_num,max_num=min_max(num)\n",
    "print(\"min num\",min_num)\n",
    "print(\"max num\",max_num)"
   ]
  },
  {
   "cell_type": "code",
   "execution_count": 41,
   "id": "35799d6e",
   "metadata": {},
   "outputs": [
    {
     "name": "stdout",
     "output_type": "stream",
     "text": [
      "factorail of 5: 120\n"
     ]
    }
   ],
   "source": [
    "# recursive function to calculate factorial\n",
    "def factorail(n):\n",
    "    if n==0:\n",
    "        return 1\n",
    "    else:\n",
    "        return n* factorail(n-1)\n",
    "print(\"factorail of 5:\", factorail(5))"
   ]
  },
  {
   "cell_type": "code",
   "execution_count": null,
   "id": "67db12e1",
   "metadata": {},
   "outputs": [],
   "source": []
  },
  {
   "cell_type": "code",
   "execution_count": 14,
   "id": "8d9216eb",
   "metadata": {},
   "outputs": [
    {
     "name": "stdout",
     "output_type": "stream",
     "text": [
      "sum 16\n"
     ]
    }
   ],
   "source": [
    "# function with variable of arguments\n",
    "def sum(*arg):\n",
    "    total =0\n",
    "    for num in arg:\n",
    "        total += num\n",
    "    return total\n",
    "print(\"sum\", sum(1,3,5,7))"
   ]
  },
  {
   "cell_type": "code",
   "execution_count": 16,
   "id": "a6691c9b",
   "metadata": {},
   "outputs": [
    {
     "name": "stdout",
     "output_type": "stream",
     "text": [
      "square of 5 25\n"
     ]
    }
   ],
   "source": [
    "# lembda expression or function\n",
    "square = lambda x:x**2\n",
    "print(\"square of 5\",square(5))"
   ]
  },
  {
   "cell_type": "code",
   "execution_count": 17,
   "id": "6d4635d4",
   "metadata": {},
   "outputs": [
    {
     "name": "stdout",
     "output_type": "stream",
     "text": [
      "sum 30\n"
     ]
    }
   ],
   "source": [
    "# addition of two num\n",
    "sum= lambda x,y:x+y\n",
    "print(\"sum\",sum(10,20))"
   ]
  },
  {
   "cell_type": "code",
   "execution_count": 18,
   "id": "e0113fae",
   "metadata": {},
   "outputs": [
    {
     "name": "stdout",
     "output_type": "stream",
     "text": [
      "sprted name ['bata', 'popo', 'payal', 'bajes']\n"
     ]
    }
   ],
   "source": [
    "# sorting based on length(characters) of name \n",
    "names = [\"bata\",\"payal\",\"popo\",\"bajes\"]\n",
    "sorted_names = sorted(names,key=lambda name: len(name))\n",
    "print(\"sprted name\",sorted_names)"
   ]
  },
  {
   "cell_type": "code",
   "execution_count": 20,
   "id": "f4bd1e19",
   "metadata": {},
   "outputs": [
    {
     "name": "stdout",
     "output_type": "stream",
     "text": [
      "even no.s [2, 8, 6, 20, 26]\n"
     ]
    }
   ],
   "source": [
    "# even numbers in a list \n",
    "num=[2,3,5,8,6,20,25,26,7,101,103]\n",
    "even_numbers=list(filter(lambda x: x%2==0,num))\n",
    "print(\"even no.s\",even_numbers)\n"
   ]
  },
  {
   "cell_type": "code",
   "execution_count": 21,
   "id": "6b4dc50d",
   "metadata": {},
   "outputs": [
    {
     "name": "stdout",
     "output_type": "stream",
     "text": [
      "suuare of numbers [1, 4, 9, 16, 25, 36, 49, 64, 81]\n"
     ]
    }
   ],
   "source": [
    "# mapping of function to a list using lambda function\n",
    "num=[1,2,3,4,5,6,7,8,9]\n",
    "square_list=list(map(lambda x:x**2,num))\n",
    "print(\"suuare of numbers\",square_list)\n"
   ]
  },
  {
   "cell_type": "code",
   "execution_count": 26,
   "id": "786b62e1",
   "metadata": {},
   "outputs": [
    {
     "name": "stdout",
     "output_type": "stream",
     "text": [
      "My list after append [1, 4, 9, 16, 25, 36, 49, 64, 81, 100]\n",
      "poped list [1, 4, 9, 16, 25, 36, 49, 64, 81]\n",
      "sorted list [2, 5, 10, 17, 29]\n",
      "reversed list [29, 17, 10, 5, 2]\n"
     ]
    }
   ],
   "source": [
    "#lets learn list methodabss \n",
    "my_list=[1,4,9,16,25,36,49,64,81]\n",
    "# append\n",
    "my_list.append(100)\n",
    "print(\"My list after append\",my_list)\n",
    "\n",
    "# pop(): removes and return the last element from the list\n",
    "my_list.pop()\n",
    "print(\"poped list\",my_list)\n",
    "\n",
    "#sort\n",
    "new_list=[10,5,2,17,29]\n",
    "new_list.sort()\n",
    "print(\"sorted list\",new_list)\n",
    "\n",
    "# reserve()\n",
    "new_list.reverse()\n",
    "print(\"reversed list\",new_list)\n",
    "\n"
   ]
  },
  {
   "cell_type": "code",
   "execution_count": 34,
   "id": "c9437c1c",
   "metadata": {},
   "outputs": [
    {
     "name": "stdout",
     "output_type": "stream",
     "text": [
      "keys(): dict_keys(['apple', 'banana', 'chery'])\n",
      "values(): dict_values([20, 12, 5])\n",
      "items(): dict_items([('apple', 20), ('banana', 12), ('chery', 5)])\n",
      "Items(): 20\n"
     ]
    }
   ],
   "source": [
    "# using dictionary method\n",
    "my_dict={\n",
    "    \"apple\":20,\n",
    "    \"banana\":12,\n",
    "    \"chery\":5\n",
    "    \n",
    "}\n",
    "# key() return a view of all keys in given dict\n",
    "print(\"keys():\",my_dict.keys())\n",
    "\n",
    "# values \n",
    "print(\"values():\",my_dict.values())\n",
    "\n",
    "# items() \n",
    "print(\"items():\",my_dict.items())\n",
    "\n",
    "#get() return a view of specificed key or  return default values if not found\n",
    "print(\"Items():\",my_dict.get(\"apple\"))\n"
   ]
  },
  {
   "cell_type": "code",
   "execution_count": 38,
   "id": "b6a95e59",
   "metadata": {},
   "outputs": [
    {
     "name": "stdout",
     "output_type": "stream",
     "text": [
      "Defaulting to user installation because normal site-packages is not writeable\n",
      "Requirement already satisfied: pandoc in c:\\users\\jaisa\\appdata\\roaming\\python\\python311\\site-packages (2.3)\n",
      "Requirement already satisfied: plumbum in c:\\users\\jaisa\\appdata\\roaming\\python\\python311\\site-packages (from pandoc) (1.8.3)\n",
      "Requirement already satisfied: ply in d:\\anaconda\\lib\\site-packages (from pandoc) (3.11)\n",
      "Requirement already satisfied: pywin32 in d:\\anaconda\\lib\\site-packages (from plumbum->pandoc) (305.1)\n",
      "Note: you may need to restart the kernel to use updated packages.\n"
     ]
    }
   ],
   "source": [
    "pip install pandoc\n"
   ]
  }
 ],
 "metadata": {
  "kernelspec": {
   "display_name": "Python 3 (ipykernel)",
   "language": "python",
   "name": "python3"
  },
  "language_info": {
   "codemirror_mode": {
    "name": "ipython",
    "version": 3
   },
   "file_extension": ".py",
   "mimetype": "text/x-python",
   "name": "python",
   "nbconvert_exporter": "python",
   "pygments_lexer": "ipython3",
   "version": "3.11.7"
  }
 },
 "nbformat": 4,
 "nbformat_minor": 5
}
