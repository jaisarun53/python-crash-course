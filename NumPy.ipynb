{
 "cells": [
  {
   "cell_type": "code",
   "execution_count": null,
   "id": "008875ee",
   "metadata": {},
   "outputs": [
    {
     "name": "stdout",
     "output_type": "stream",
     "text": [
      "Defaulting to user installation because normal site-packages is not writeable\n",
      "Requirement already satisfied: numpy in d:\\anaconda\\lib\\site-packages (1.26.4)\n",
      "Note: you may need to restart the kernel to use updated packages.\n"
     ]
    }
   ],
   "source": [
    "pip install numpy\n",
    "\n"
   ]
  },
  {
   "cell_type": "code",
   "execution_count": 8,
   "id": "0c7b4a8b",
   "metadata": {},
   "outputs": [
    {
     "name": "stdout",
     "output_type": "stream",
     "text": [
      "Element of array: [10  5 15 20]\n"
     ]
    }
   ],
   "source": [
    "#creating numPy \n",
    "import numpy as np\n",
    "\n",
    "array=np.array([10,5,15,20])\n",
    "print(\"Element of array:\",array)"
   ]
  },
  {
   "cell_type": "code",
   "execution_count": 10,
   "id": "e4b723a3",
   "metadata": {},
   "outputs": [
    {
     "name": "stdout",
     "output_type": "stream",
     "text": [
      "average of : 12.5\n"
     ]
    }
   ],
   "source": [
    "# array operating :lets find average of above array elements\n",
    "average = np.mean(array)\n",
    "print(\"average is :\" ,average)"
   ]
  },
  {
   "cell_type": "code",
   "execution_count": 12,
   "id": "f6da206f",
   "metadata": {},
   "outputs": [
    {
     "name": "stdout",
     "output_type": "stream",
     "text": [
      "height of 2022 d batch student:\n",
      " [[100 111 100]\n",
      " [110 105 125]\n",
      " [120 115 130]]\n"
     ]
    }
   ],
   "source": [
    "#multi dimension Array\n",
    "height_cm=np.array([[100,111,100],[110,105,125],[120,115,130]])\n",
    "print(\"height of 2022 d batch student:\\n\",height_cm)"
   ]
  },
  {
   "cell_type": "code",
   "execution_count": 16,
   "id": "c79c9534",
   "metadata": {},
   "outputs": [
    {
     "name": "stdout",
     "output_type": "stream",
     "text": [
      "fbsh [100 111 100]\n",
      "rangit bata height is  125\n",
      "last bench height is  [[100 111 100]\n",
      " [110 105 125]]\n"
     ]
    }
   ],
   "source": [
    "#array indexing and slicing\n",
    "first_bench_std_height=height_cm[0]\n",
    "print(\"fbsh\",first_bench_std_height)\n",
    "\n",
    "bata_height=height_cm[1][2]\n",
    "print(\"rangit bata height is \",bata_height)\n",
    "\n",
    "last_height=height_cm[:-1]\n",
    "print(\"last bench height is \",last_height)"
   ]
  },
  {
   "cell_type": "code",
   "execution_count": 19,
   "id": "24ab98f8",
   "metadata": {},
   "outputs": [
    {
     "name": "stdout",
     "output_type": "stream",
     "text": [
      " temp in F is : [[68.  77.  84.2]\n",
      " [66.2 73.4 71.6]\n",
      " [64.4 68.  98.6]]\n",
      "temp in kelvin is : [[293.15 298.15 302.15]\n",
      " [292.15 296.15 295.15]\n",
      " [291.15 293.15 310.15]]\n"
     ]
    }
   ],
   "source": [
    "#kets convert temperate from c to f and c to k\n",
    "temp=np.array([[20,25,29],[19,23,22],[18,20,37]])\n",
    "f=(temp * 9/5)+32\n",
    "print(\" temp in F is :\",f)\n",
    "\n",
    "\n",
    "k=(temp +273.15)\n",
    "print(\"temp in kelvin is :\",k)"
   ]
  },
  {
   "cell_type": "code",
   "execution_count": 93,
   "id": "eabfc96e",
   "metadata": {},
   "outputs": [],
   "source": [
    "# linear algebra\n",
    "sales=np.array([[500,100,200],[750,1000,1500]])\n",
    "quantity=np.array([[10,20,30],[100,200,50]])\n",
    "revenue=np.dot(sales,quantity.T)"
   ]
  },
  {
   "cell_type": "code",
   "execution_count": null,
   "id": "ef932855",
   "metadata": {},
   "outputs": [],
   "source": []
  },
  {
   "cell_type": "code",
   "execution_count": 32,
   "id": "a1772328",
   "metadata": {},
   "outputs": [
    {
     "name": "stdout",
     "output_type": "stream",
     "text": [
      "zeros matrix 3x3:\n",
      " [[0 0 0]\n",
      " [0 0 0]\n",
      " [0 0 0]]\n",
      "ones matrix 3x3:\n",
      " [[1 1 1]\n",
      " [1 1 1]\n",
      " [1 1 1]]\n",
      "\n",
      "Eye matrix 5x5:\n",
      " [[1 0 0 0 0]\n",
      " [0 1 0 0 0]\n",
      " [0 0 1 0 0]\n",
      " [0 0 0 1 0]\n",
      " [0 0 0 0 1]]\n"
     ]
    }
   ],
   "source": [
    "#zeros and onnes (matrix)\n",
    "print(\"zeros matrix 3x3:\\n\",np.zeros((3,3),dtype=int))\n",
    "print(\"ones matrix 3x3:\\n\",np.ones((3,3),dtype=int))\n",
    "print(\"\\nEye matrix 5x5:\\n\",np.eye((5),dtype=int))\n",
    "\n",
    "\n"
   ]
  },
  {
   "cell_type": "code",
   "execution_count": 97,
   "id": "9feafb7e",
   "metadata": {},
   "outputs": [
    {
     "name": "stdout",
     "output_type": "stream",
     "text": [
      "1D: [0 1 2 3 4 5 6 7 8 9]\n",
      "\n",
      "2D:\n",
      " [[1 2 3]\n",
      " [4 5 6]\n",
      " [7 8 9]]\n"
     ]
    }
   ],
   "source": [
    "#create 1D numPy array values ranging from 0 to 9\n",
    "array_1D=np.arange(10)\n",
    "print(\"1D:\",array_1D)\n",
    "\n",
    "#creare a 2D NUMPY array with the shape(3,3) containg values frpm 1to 10\n",
    "array_2D=np.arange(1,10).reshape(3,3)\n",
    "print(\"\\n2D:\\n\",array_2D)\n"
   ]
  },
  {
   "cell_type": "code",
   "execution_count": 99,
   "id": "cda8ebc7",
   "metadata": {},
   "outputs": [
    {
     "name": "stdout",
     "output_type": "stream",
     "text": [
      "[5 7 9] [-3 -3 -3] [ 4 10 18] [4.  2.5 2. ]\n"
     ]
    }
   ],
   "source": [
    "#perform element-wise addition,suntration,multiplication,and devision on 1D array [1,2,3] and [4,5,6]\n",
    "array1=np.array([1,2,3])\n",
    "array2=np.array([4,5,6])\n",
    "\n",
    "addition=array1 + array2\n",
    "subtraction=array1 - array2\n",
    "multiplication=array1 * array2\n",
    "devision=array2 / array1\n",
    "\n",
    "print(addition,subtraction,multiplication,devision)\n",
    "\n",
    "\n",
    "\n"
   ]
  }
 ],
 "metadata": {
  "kernelspec": {
   "display_name": "Python 3 (ipykernel)",
   "language": "python",
   "name": "python3"
  },
  "language_info": {
   "codemirror_mode": {
    "name": "ipython",
    "version": 3
   },
   "file_extension": ".py",
   "mimetype": "text/x-python",
   "name": "python",
   "nbconvert_exporter": "python",
   "pygments_lexer": "ipython3",
   "version": "3.11.7"
  }
 },
 "nbformat": 4,
 "nbformat_minor": 5
}
